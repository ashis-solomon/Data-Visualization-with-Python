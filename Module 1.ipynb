{
 "cells": [
  {
   "cell_type": "code",
   "execution_count": 1,
   "id": "7fdec766",
   "metadata": {},
   "outputs": [],
   "source": [
    "import pandas as pd\n",
    "import numpy as np\n",
    "import matplotlib.pyplot as plt\n",
    "import seaborn as sns"
   ]
  },
  {
   "cell_type": "markdown",
   "id": "0607fd8d",
   "metadata": {},
   "source": [
    "# 1.1 Introduction to Data Visualization"
   ]
  },
  {
   "cell_type": "raw",
   "id": "9a63967a",
   "metadata": {},
   "source": [
    "Try to avoid using Pie Charts as much as possible ... instead try using horizontal bar charts."
   ]
  },
  {
   "cell_type": "raw",
   "id": "c008b2d2",
   "metadata": {},
   "source": [
    "Matplotlib Architecture\n",
    "\n",
    "Scripting [pyplot]\n",
    "Artist\n",
    "Backend\n",
    "\n",
    "\n",
    "Backend Layer\n",
    "-> FigureCanvas - Where the figure is drawn.           matplotlib.backend_bases.FigureCanvas\n",
    "-> Renderer     - Draws on the FigureCanvas.           matplotlib.backend_bases.Renderer\n",
    "-> Event        - Handles events like mouse clicks.    matplotlib.backend_bases.Event\n",
    "\n",
    "Artist Layer\n",
    "-> Artist       - Knows how to draw on FigureCanvas. \n",
    "   1. Primitive objects: Line, Cricle, Text etc.\n",
    "   2. Composite objects: Axis, Ticks, Axes labels etc.\n",
    "   \n",
    "Scripting Layer\n",
    "-> mainly pyplot, used for scripting lighter than Artist layer."
   ]
  },
  {
   "cell_type": "code",
   "execution_count": 7,
   "id": "1e7d33c0",
   "metadata": {},
   "outputs": [
    {
     "data": {
      "image/png": "[encoded data removed]",
      "text/plain": [
       "<Figure size 640x480 with 1 Axes>"
      ]
     },
     "metadata": {},
     "output_type": "display_data"
    }
   ],
   "source": [
    "x = np.random.randn(1000)\n",
    "plt.hist(x, 100)\n",
    "plt.title('Distribution')\n",
    "plt.savefig('./assets/img/random1000.png')\n",
    "plt.show()"
   ]
  },
  {
   "cell_type": "raw",
   "id": "d4872818",
   "metadata": {},
   "source": [
    "The parameter bins in the plt.hist() function specifies the number of bins to use in the histogram. A bin is a range of values on the x-axis that represents the frequency of occurrence of data points falling within that range.\n",
    "\n",
    "In this code, plt.hist(x, 100) creates a histogram plot of x with 100 bins, which means the x-axis will be divided into 100 equally spaced intervals, and the number of data points falling within each interval will be counted and displayed as the height of the corresponding bar in the histogram.\n",
    "\n",
    "Having more bins in a histogram can provide a more detailed view of the data, but it can also result in overfitting or visual clutter if the data is noisy or the sample size is small. On the other hand, having fewer bins can result in loss of information and hiding important features of the data. So, the choice of the number of bins depends on the nature of the data and the purpose of the analysis."
   ]
  },
  {
   "cell_type": "code",
   "execution_count": null,
   "id": "b2df56ba",
   "metadata": {},
   "outputs": [],
   "source": []
  }
 ],
 "metadata": {
  "kernelspec": {
   "display_name": "Python 3 (ipykernel)",
   "language": "python",
   "name": "python3"
  },
  "language_info": {
   "codemirror_mode": {
    "name": "ipython",
    "version": 3
   },
   "file_extension": ".py",
   "mimetype": "text/x-python",
   "name": "python",
   "nbconvert_exporter": "python",
   "pygments_lexer": "ipython3",
   "version": "3.10.6"
  }
 },
 "nbformat": 4,
 "nbformat_minor": 5
}
